{
 "cells": [
  {
   "cell_type": "markdown",
   "id": "8ca77ee7",
   "metadata": {},
   "source": [
    "# Top Positive Words: [('good', 6445), ('great', 720)]\n",
    "\n",
    "# Top Negative Words: [('bad', 259), ('poor', 112)]\n",
    "\n",
    "## Actionable Insights and Recommendations:\n",
    "\n",
    "`1. Products with moderate discounts (30%-60%) tend to achieve higher ratings.`\n",
    "\n",
    "`2. Focus on high-rating categories like Electronics|HomeTheater,TV&Video|Accessories|Cables|HDMICables to maximize ROI.`\n",
    "\n",
    "`3. Address frequent complaints identified in reviews (e.g., durability).`\n",
    "\n",
    "`4. Highlight customer-preferred features in campaigns (e.g., fast charging, compatibility).`"
   ]
  }
 ],
 "metadata": {
  "language_info": {
   "name": "python"
  }
 },
 "nbformat": 4,
 "nbformat_minor": 5
}
